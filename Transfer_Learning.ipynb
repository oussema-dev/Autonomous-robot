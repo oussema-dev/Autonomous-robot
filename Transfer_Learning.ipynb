{
  "nbformat": 4,
  "nbformat_minor": 0,
  "metadata": {
    "accelerator": "GPU",
    "colab": {
      "name": "Transfer Learning.ipynb",
      "provenance": [],
      "collapsed_sections": []
    },
    "kernelspec": {
      "display_name": "Python 3",
      "name": "python3"
    }
  },
  "cells": [
    {
      "cell_type": "code",
      "metadata": {
        "id": "logJte-kcavS"
      },
      "source": [
        "from google.colab import drive\n",
        "drive.mount('/content/drive', force_remount=True)"
      ],
      "execution_count": null,
      "outputs": []
    },
    {
      "cell_type": "code",
      "metadata": {
        "id": "PqypzFPRkon9"
      },
      "source": [
        "!cp '/content/drive/MyDrive/train.record' train.record\n",
        "!cp '/content/drive/MyDrive/test.record' test.record\n",
        "!cp '/content/drive/MyDrive/labelmap.pbtxt' labelmap.pbtxt\n",
        "!cp '/content/drive/MyDrive/pipeline.config' pipeline.config"
      ],
      "execution_count": 6,
      "outputs": []
    },
    {
      "cell_type": "code",
      "metadata": {
        "id": "EupSoUk_UqEd"
      },
      "source": [
        "!wget http://download.tensorflow.org/models/object_detection/ssd_mobilenet_v2_coco_2018_03_29.tar.gz"
      ],
      "execution_count": null,
      "outputs": []
    },
    {
      "cell_type": "code",
      "metadata": {
        "id": "e3UeBC0rU_wU"
      },
      "source": [
        "!tar -zxf ssd_mobilenet_v2_coco_2018_03_29.tar.gz"
      ],
      "execution_count": 8,
      "outputs": []
    },
    {
      "cell_type": "code",
      "metadata": {
        "id": "_LkbrCNrpVtG"
      },
      "source": [
        "%tensorflow_version 1.x"
      ],
      "execution_count": null,
      "outputs": []
    },
    {
      "cell_type": "code",
      "metadata": {
        "id": "x9rUwXEN7AN7"
      },
      "source": [
        "import tensorflow\r\n",
        "print(tensorflow.__version__)"
      ],
      "execution_count": null,
      "outputs": []
    },
    {
      "cell_type": "code",
      "metadata": {
        "id": "H9I0VmYTKqn7"
      },
      "source": [
        "!apt-get install protobuf-compiler python-pil python-lxml python-tk\n",
        "!pip install Cython==0.29.21\n",
        "!git clone https://github.com/tensorflow/models.git\n",
        "%cd /content/models/research\n",
        "!protoc object_detection/protos/*.proto --python_out=."
      ],
      "execution_count": null,
      "outputs": []
    },
    {
      "cell_type": "code",
      "metadata": {
        "id": "xKXRxBM9Yqs3"
      },
      "source": [
        "import os\n",
        "os.environ['PYTHONPATH'] = '/content/models/research:/content/models/research/slim:' + os.environ['PYTHONPATH']"
      ],
      "execution_count": 4,
      "outputs": []
    },
    {
      "cell_type": "code",
      "metadata": {
        "id": "PFBKM1TpXkj8"
      },
      "source": [
        "!pip3 install numpy==1.17.4"
      ],
      "execution_count": null,
      "outputs": []
    },
    {
      "cell_type": "code",
      "metadata": {
        "id": "TYC8JhwuTGMs"
      },
      "source": [
        "!pip install tensorflow-object-detection-api==0.1.1"
      ],
      "execution_count": null,
      "outputs": []
    },
    {
      "cell_type": "code",
      "metadata": {
        "id": "tUbME_ZvWDiz"
      },
      "source": [
        "!pip install tf_slim==1.1.0"
      ],
      "execution_count": null,
      "outputs": []
    },
    {
      "cell_type": "code",
      "metadata": {
        "id": "fCPvCpgsqBRJ"
      },
      "source": [
        "!pip install lvis==0.5.3"
      ],
      "execution_count": null,
      "outputs": []
    },
    {
      "cell_type": "code",
      "metadata": {
        "id": "OamxPpK6bqLE"
      },
      "source": [
        "!pip install utils==1.0.1"
      ],
      "execution_count": null,
      "outputs": []
    },
    {
      "cell_type": "code",
      "metadata": {
        "id": "jJmlvdkzTbwh"
      },
      "source": [
        "!pip install nets==0.0.3"
      ],
      "execution_count": null,
      "outputs": []
    },
    {
      "cell_type": "code",
      "metadata": {
        "id": "dOc2HUeIcwJK"
      },
      "source": [
        "!python /content/models/research/object_detection/model_main.py --model_dir=/content/training --pipeline_config_path='/content/pipeline.config'"
      ],
      "execution_count": null,
      "outputs": []
    },
    {
      "cell_type": "code",
      "metadata": {
        "id": "NWnCpsFDSuT_"
      },
      "source": [
        "!zip -r /content/result /content/training"
      ],
      "execution_count": null,
      "outputs": []
    },
    {
      "cell_type": "code",
      "metadata": {
        "id": "LKFFfdE1ixQW"
      },
      "source": [
        "!cp /content/result.zip '/content/drive/My Drive/'"
      ],
      "execution_count": 14,
      "outputs": []
    },
    {
      "cell_type": "code",
      "metadata": {
        "id": "tw6Py6MKNgHz"
      },
      "source": [
        "!python /content/models/research/object_detection/export_inference_graph.py --input_type image_tensor --pipeline_config_path '/content/pipeline.config' --trained_checkpoint_prefix '/content/training/model.ckpt-104349' --output_directory '/content/output'"
      ],
      "execution_count": null,
      "outputs": []
    },
    {
      "cell_type": "code",
      "metadata": {
        "id": "UQdsqjgIqpY7"
      },
      "source": [
        "!python /content/models/research/object_detection/export_tflite_ssd_graph.py --pipeline_config_path='/content/pipeline.config' --trained_checkpoint_prefix='/content/training/model.ckpt-104349' --output_directory='/content/output/tflite' --add_postprocessing_op=true"
      ],
      "execution_count": null,
      "outputs": []
    },
    {
      "cell_type": "code",
      "metadata": {
        "id": "dPbzl_aArbGb"
      },
      "source": [
        "!tflite_convert --output_file '/content/output/tflite/tflite_graph.tflite' --graph_def_file '/content/output/tflite/tflite_graph.pb' --inference_type FLOAT --input_arrays normalized_input_image_tensor --output_arrays TFLite_Detection_PostProcess,TFLite_Detection_PostProcess:1,TFLite_Detection_PostProcess:2,TFLite_Detection_PostProcess:3 --mean_values 128 --std_dev_values 128 --input_shapes 1,300,300,3 --change_concat_input_ranges false --allow_nudging_weights_to_use_fast_gemm_kernel true --allow_custom_ops"
      ],
      "execution_count": null,
      "outputs": []
    },
    {
      "cell_type": "markdown",
      "metadata": {
        "id": "lQ-a-lonx5m7"
      },
      "source": [
        "Generate labelmap.txt inside tflite directory using this format:\r\n",
        "stop\r\n",
        "trun_right\r\n"
      ]
    },
    {
      "cell_type": "code",
      "metadata": {
        "id": "Za11iXK2oP93"
      },
      "source": [
        "!zip -r /content/final /content/output"
      ],
      "execution_count": null,
      "outputs": []
    },
    {
      "cell_type": "code",
      "metadata": {
        "id": "jHbyhiYsod9n"
      },
      "source": [
        "!cp /content/final.zip '/content/drive/My Drive/'"
      ],
      "execution_count": 21,
      "outputs": []
    }
  ]
}